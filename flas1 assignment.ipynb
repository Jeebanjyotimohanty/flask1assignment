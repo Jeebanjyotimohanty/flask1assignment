{
 "cells": [
  {
   "cell_type": "code",
   "execution_count": 1,
   "id": "0c00e0b3-af85-4257-8223-159e4ae94083",
   "metadata": {},
   "outputs": [
    {
     "name": "stdout",
     "output_type": "stream",
     "text": [
      "Collecting Flask\n",
      "  Downloading Flask-2.2.3-py3-none-any.whl (101 kB)\n",
      "\u001b[2K     \u001b[90m━━━━━━━━━━━━━━━━━━━━━━━━━━━━━━━━━━━━━━━\u001b[0m \u001b[32m101.8/101.8 kB\u001b[0m \u001b[31m1.7 MB/s\u001b[0m eta \u001b[36m0:00:00\u001b[0ma \u001b[36m0:00:01\u001b[0m\n",
      "\u001b[?25hCollecting itsdangerous>=2.0\n",
      "  Downloading itsdangerous-2.1.2-py3-none-any.whl (15 kB)\n",
      "Requirement already satisfied: Jinja2>=3.0 in /opt/conda/lib/python3.10/site-packages (from Flask) (3.1.2)\n",
      "Collecting Werkzeug>=2.2.2\n",
      "  Downloading Werkzeug-2.2.3-py3-none-any.whl (233 kB)\n",
      "\u001b[2K     \u001b[90m━━━━━━━━━━━━━━━━━━━━━━━━━━━━━━━━━━━━━━━\u001b[0m \u001b[32m233.6/233.6 kB\u001b[0m \u001b[31m6.2 MB/s\u001b[0m eta \u001b[36m0:00:00\u001b[0ma \u001b[36m0:00:01\u001b[0m\n",
      "\u001b[?25hRequirement already satisfied: click>=8.0 in /opt/conda/lib/python3.10/site-packages (from Flask) (8.1.3)\n",
      "Requirement already satisfied: MarkupSafe>=2.0 in /opt/conda/lib/python3.10/site-packages (from Jinja2>=3.0->Flask) (2.1.1)\n",
      "Installing collected packages: Werkzeug, itsdangerous, Flask\n",
      "Successfully installed Flask-2.2.3 Werkzeug-2.2.3 itsdangerous-2.1.2\n",
      "Note: you may need to restart the kernel to use updated packages.\n"
     ]
    }
   ],
   "source": [
    "pip install Flask"
   ]
  },
  {
   "cell_type": "code",
   "execution_count": 2,
   "id": "52019d33-163b-40e3-92d2-da3782ab9297",
   "metadata": {},
   "outputs": [
    {
     "data": {
      "text/plain": [
       "'\\n1)Flask is a web framework. This means flask provides you with tools, libraries and technologies that allow you to build a web application. This web application can be some web pages, a blog, a wiki or go as big as a web-based calendar application or a commercial website.\\nFlask is part of the categories of the micro-framework.\\nadvantages of flask:-\\ni)Scalable\\nii)Flexible\\niii)Easy to negotiate\\niv)Lightweight\\nv)Documentation\\n'"
      ]
     },
     "execution_count": 2,
     "metadata": {},
     "output_type": "execute_result"
    }
   ],
   "source": [
    "\"\"\"\n",
    "1)Flask is a web framework. This means flask provides you with tools, libraries and technologies that allow you to build a web application. This web application can be some web pages, a blog, a wiki or go as big as a web-based calendar application or a commercial website.\n",
    "Flask is part of the categories of the micro-framework.\n",
    "advantages of flask:-\n",
    "i)Scalable\n",
    "ii)Flexible\n",
    "iii)Easy to negotiate\n",
    "iv)Lightweight\n",
    "v)Documentation\n",
    "\"\"\""
   ]
  },
  {
   "cell_type": "code",
   "execution_count": 1,
   "id": "7f0a834d-73f3-4b1c-b85f-b4c9bf3e05f8",
   "metadata": {},
   "outputs": [],
   "source": [
    "#2)"
   ]
  },
  {
   "cell_type": "code",
   "execution_count": 4,
   "id": "aaea8c1c-51e3-4fa7-b5b1-9ff1552a03ff",
   "metadata": {},
   "outputs": [],
   "source": [
    "from flask import Flask"
   ]
  },
  {
   "cell_type": "code",
   "execution_count": null,
   "id": "1d069685-5f3b-49fb-a0a3-a30409f35b8f",
   "metadata": {},
   "outputs": [
    {
     "name": "stdout",
     "output_type": "stream",
     "text": [
      " * Serving Flask app '__main__'\n",
      " * Debug mode: off\n"
     ]
    },
    {
     "name": "stderr",
     "output_type": "stream",
     "text": [
      "WARNING: This is a development server. Do not use it in a production deployment. Use a production WSGI server instead.\n",
      " * Running on all addresses (0.0.0.0)\n",
      " * Running on http://127.0.0.1:5000\n",
      " * Running on http://172.18.0.11:5000\n",
      "Press CTRL+C to quit\n"
     ]
    }
   ],
   "source": [
    "app=Flask(__name__)\n",
    "@app.route(\"/\")\n",
    "def greet():\n",
    "    return \"<h1>Hello world</h1>\"\n",
    "if __name__==\"__main__\":\n",
    "    app.run(host=\"0.0.0.0\")\n"
   ]
  },
  {
   "cell_type": "code",
   "execution_count": 3,
   "id": "70de0388-9b94-4298-a5f8-f440942cf8fb",
   "metadata": {},
   "outputs": [
    {
     "data": {
      "text/plain": [
       "'\\n3)app routing:-App Routing means mapping the URLs to a specific function that will handle the logic for that URL.\\nTo bind a function to an URL path we use the app.route decorator.\\n@app. route(\"/\") is a decorator which adds an endpoint to the app object. It doesn\\'t actually modify any behavior of the function, and is instead sugar to simplify the process.\\n\\n'"
      ]
     },
     "execution_count": 3,
     "metadata": {},
     "output_type": "execute_result"
    }
   ],
   "source": [
    "\"\"\"\n",
    "3)app routing:-App Routing means mapping the URLs to a specific function that will handle the logic for that URL.\n",
    "To bind a function to an URL path we use the app.route decorator.\n",
    "@app. route(\"/\") is a decorator which adds an endpoint to the app object. It doesn't actually modify any behavior of the function, and is instead sugar to simplify the process.\n",
    "\n",
    "\"\"\""
   ]
  },
  {
   "cell_type": "code",
   "execution_count": 1,
   "id": "bdf6d1ac-920d-44e5-87de-6739bdb2c5e3",
   "metadata": {},
   "outputs": [],
   "source": [
    "#4)\n",
    "from flask import Flask"
   ]
  },
  {
   "cell_type": "code",
   "execution_count": null,
   "id": "0e4a5795-d06c-4b8b-a7fc-2c349a4ad259",
   "metadata": {},
   "outputs": [
    {
     "name": "stdout",
     "output_type": "stream",
     "text": [
      " * Serving Flask app '__main__'\n",
      " * Debug mode: off\n"
     ]
    },
    {
     "name": "stderr",
     "output_type": "stream",
     "text": [
      "WARNING: This is a development server. Do not use it in a production deployment. Use a production WSGI server instead.\n",
      " * Running on all addresses (0.0.0.0)\n",
      " * Running on http://127.0.0.1:5000\n",
      " * Running on http://172.18.0.11:5000\n",
      "Press CTRL+C to quit\n",
      "172.18.0.2 - - [05/Mar/2023 04:46:58] \"GET / HTTP/1.1\" 200 -\n",
      "172.18.0.2 - - [05/Mar/2023 04:54:37] \"GET /welcome HTTP/1.1\" 200 -\n"
     ]
    }
   ],
   "source": [
    "app1=Flask(__name__)\n",
    "\n",
    "@app1.route(\"/welcome\")\n",
    "def welscome():\n",
    "    return \"<h1>Welcome to ABC corporation</h1>\"\n",
    "@app1.route(\"/\")\n",
    "def details():\n",
    "    return \"\"\"Company Name: ABC Corporation\n",
    "              Location: India\n",
    "              Contact Detail: 999-999-9999\"\"\"\n",
    "if __name__==\"__main__\":\n",
    "    app1.run(host=\"0.0.0.0\")"
   ]
  },
  {
   "cell_type": "code",
   "execution_count": null,
   "id": "70c1aa79-40f1-4807-8b27-c8135b11152b",
   "metadata": {},
   "outputs": [],
   "source": [
    "\"\"\"\n",
    "5)The url_for() function is very useful for dynamically building a URL for a specific function. The function accepts the name of a function as first argument, and one or more keyword arguments, each corresponding to the variable part of URL.\n",
    "\n",
    "\"\"\""
   ]
  },
  {
   "cell_type": "code",
   "execution_count": 2,
   "id": "2aca6797-8bfb-4557-bf67-3c1ae9948650",
   "metadata": {},
   "outputs": [],
   "source": [
    "from flask import Flask, redirect, url_for"
   ]
  },
  {
   "cell_type": "code",
   "execution_count": null,
   "id": "e88bc70e-db8f-4652-9753-efc2f4c10fff",
   "metadata": {},
   "outputs": [
    {
     "name": "stdout",
     "output_type": "stream",
     "text": [
      " * Serving Flask app '__main__'\n",
      " * Debug mode: off\n"
     ]
    },
    {
     "name": "stderr",
     "output_type": "stream",
     "text": [
      "WARNING: This is a development server. Do not use it in a production deployment. Use a production WSGI server instead.\n",
      " * Running on all addresses (0.0.0.0)\n",
      " * Running on http://127.0.0.1:5000\n",
      " * Running on http://172.18.0.11:5000\n",
      "Press CTRL+C to quit\n",
      "172.18.0.2 - - [05/Mar/2023 05:01:30] \"GET / HTTP/1.1\" 404 -\n",
      "172.18.0.2 - - [05/Mar/2023 05:01:53] \"GET /admin HTTP/1.1\" 200 -\n",
      "172.18.0.2 - - [05/Mar/2023 05:02:07] \"GET /guest/%3Cguest%3E HTTP/1.1\" 200 -\n",
      "172.18.0.2 - - [05/Mar/2023 05:02:21] \"GET /guest/user/%3Cname%3E HTTP/1.1\" 404 -\n",
      "172.18.0.2 - - [05/Mar/2023 05:03:39] \"GET /guest/user/admin HTTP/1.1\" 404 -\n",
      "172.18.0.2 - - [05/Mar/2023 05:04:05] \"GET /guest/user/admin HTTP/1.1\" 404 -\n",
      "172.18.0.2 - - [05/Mar/2023 05:04:06] \"GET /guest/user/admin HTTP/1.1\" 404 -\n",
      "172.18.0.2 - - [05/Mar/2023 05:04:30] \"GET /guest/jeeban HTTP/1.1\" 200 -\n",
      "172.18.0.2 - - [05/Mar/2023 05:04:53] \"GET /user/admin HTTP/1.1\" 302 -\n",
      "172.18.0.2 - - [05/Mar/2023 05:04:53] \"GET /admin HTTP/1.1\" 200 -\n"
     ]
    }
   ],
   "source": [
    "\n",
    "app = Flask(__name__)\n",
    "\n",
    "@app.route('/admin')\n",
    "def hello_admin():\n",
    "    return 'Hello Admin'\n",
    "\n",
    "@app.route('/guest/<guest>')\n",
    "def hello_guest(guest):\n",
    "    return 'Hello %s as Guest' % guest\n",
    "\n",
    "@app.route('/user/<name>')\n",
    "def hello_user(name):\n",
    "    if name =='admin':\n",
    "        return redirect(url_for('hello_admin'))\n",
    "    else:\n",
    "        return redirect(url_for('hello_guest',guest = name))\n",
    "\n",
    "if __name__ == '__main__':\n",
    "    app.run(host=\"0.0.0.0\")"
   ]
  },
  {
   "cell_type": "code",
   "execution_count": null,
   "id": "ca9f5e27-e198-453b-a0db-20ccf1b23fe7",
   "metadata": {},
   "outputs": [],
   "source": []
  }
 ],
 "metadata": {
  "kernelspec": {
   "display_name": "Python 3 (ipykernel)",
   "language": "python",
   "name": "python3"
  },
  "language_info": {
   "codemirror_mode": {
    "name": "ipython",
    "version": 3
   },
   "file_extension": ".py",
   "mimetype": "text/x-python",
   "name": "python",
   "nbconvert_exporter": "python",
   "pygments_lexer": "ipython3",
   "version": "3.10.8"
  }
 },
 "nbformat": 4,
 "nbformat_minor": 5
}
